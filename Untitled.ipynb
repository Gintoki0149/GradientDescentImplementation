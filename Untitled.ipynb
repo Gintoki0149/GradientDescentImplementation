{
 "cells": [
  {
   "cell_type": "code",
   "execution_count": 467,
   "id": "b99a4ed3",
   "metadata": {},
   "outputs": [],
   "source": [
    "import numpy as np\n",
    "from sklearn.model_selection import train_test_split\n",
    "import sklearn.metrics as metrics\n",
    "import matplotlib.pyplot as plt"
   ]
  },
  {
   "cell_type": "code",
   "execution_count": 468,
   "id": "f78a02e7",
   "metadata": {},
   "outputs": [],
   "source": [
    "#creating a dataset corresponding to the function y = x1 + x2\n",
    "t = [3]    \n",
    "s = 3\n",
    "d = 4\n",
    "for i in range (1,500):\n",
    "    s+=d\n",
    "    t.append(s)\n",
    "t += np.random.rand(len(t))    #adding random noise\n",
    "X = []    #the input matrix\n",
    "for i in range(1,1001):\n",
    "    X.append(i)"
   ]
  },
  {
   "cell_type": "code",
   "execution_count": 469,
   "id": "3e34a1a7",
   "metadata": {},
   "outputs": [],
   "source": [
    "t = np.array(t)\n",
    "X = np.array(X).reshape(t.size,2)\n",
    "X_train, X_test,t_train, t_test = train_test_split(X, t ,random_state=101, test_size=0.25, shuffle=True)"
   ]
  },
  {
   "cell_type": "code",
   "execution_count": 470,
   "id": "e359bd0a",
   "metadata": {},
   "outputs": [],
   "source": [
    "class model:\n",
    "    max_threshhold = 0.001\n",
    "    min_threshold = -max_threshhold\n",
    "    t = []    #vector of target values\n",
    "    X = []    #input matrix\n",
    "    w = []    #weight vector\n",
    "    predictions = []    #list of predicted values\n",
    "    alpha = 0.1   #learning rate\n",
    "    \n",
    "    def __init__(self,t,X):    #constructor to initialize all variables\n",
    "        self.t = t\n",
    "        self.X = X\n",
    "        self.predictions = []\n",
    "        alpha = 0.000001\n",
    "        \n",
    "    def fit(self):    #adjusting the weights using batch gradient descent method\n",
    "        import numpy as np\n",
    "        w = np.zeros(X.shape[1])    #initializing the weights with a value of 0\n",
    "        gradJ = np.dot(np.dot( X.transpose(),X ),w) - np.dot(X.transpose(),t)    #gradient vector for the cost function(assumed to be SSE)\n",
    "        \n",
    "        while (True in (gradJ > max_threshhold) or (True in gradJ<min_threshhold)):    #while the gradient is outside the range (min_threshhold,max_threshhold)\n",
    "            w = w - alpha*gradJ\n",
    "            gradJ = np.dot(np.dot(X.transpose(),X),w)-np.dot(X.transpose(),t)\n",
    "            \n",
    "    def predict(self,x_test):    #finding the output value calculated by multiplying the x_test matrix with the weight vector\n",
    "        import numpy as np\n",
    "        for x in x_test:\n",
    "            self.predictions.append(np.dot(x,w))\n",
    "        return self.predictions"
   ]
  },
  {
   "cell_type": "code",
   "execution_count": 471,
   "id": "2022d5ba",
   "metadata": {},
   "outputs": [],
   "source": [
    "myModel = model(t_train,X_train)    #instantiating the model object"
   ]
  },
  {
   "cell_type": "code",
   "execution_count": 472,
   "id": "cc8bcf2f",
   "metadata": {},
   "outputs": [
    {
     "data": {
      "text/plain": [
       "<bound method model.fit of <__main__.model object at 0x000002BA115E3CA0>>"
      ]
     },
     "execution_count": 472,
     "metadata": {},
     "output_type": "execute_result"
    }
   ],
   "source": [
    "myModel.fit    "
   ]
  },
  {
   "cell_type": "code",
   "execution_count": 473,
   "id": "376c4d45",
   "metadata": {},
   "outputs": [
    {
     "name": "stdout",
     "output_type": "stream",
     "text": [
      "0.5695591399515874\n"
     ]
    },
    {
     "data": {
      "text/plain": [
       "[<matplotlib.lines.Line2D at 0x2ba116edab0>]"
      ]
     },
     "execution_count": 473,
     "metadata": {},
     "output_type": "execute_result"
    },
    {
     "data": {
      "image/png": "[encoded data removed]",
      "text/plain": [
       "<Figure size 640x480 with 1 Axes>"
      ]
     },
     "metadata": {},
     "output_type": "display_data"
    }
   ],
   "source": [
    "predictions = myModel.predict(X_test)\n",
    "mse = metrics.mean_squared_error(np.array(predictions),t_test)\n",
    "print(np.sqrt(mse))\n",
    "plt.plot(predictions,t_test)"
   ]
  },
  {
   "cell_type": "code",
   "execution_count": null,
   "id": "9df5d908",
   "metadata": {},
   "outputs": [],
   "source": []
  },
  {
   "cell_type": "code",
   "execution_count": null,
   "id": "7c9f572f",
   "metadata": {},
   "outputs": [],
   "source": []
  }
 ],
 "metadata": {
  "kernelspec": {
   "display_name": "Python 3 (ipykernel)",
   "language": "python",
   "name": "python3"
  },
  "language_info": {
   "codemirror_mode": {
    "name": "ipython",
    "version": 3
   },
   "file_extension": ".py",
   "mimetype": "text/x-python",
   "name": "python",
   "nbconvert_exporter": "python",
   "pygments_lexer": "ipython3",
   "version": "3.10.9"
  }
 },
 "nbformat": 4,
 "nbformat_minor": 5
}
