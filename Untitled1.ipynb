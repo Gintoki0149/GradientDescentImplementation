{
 "cells": [
  {
   "cell_type": "code",
   "execution_count": 48,
   "id": "a016d3fa",
   "metadata": {},
   "outputs": [],
   "source": [
    "import numpy as np\n",
    "from sklearn.model_selection import train_test_split\n",
    "import sklearn.metrics as metrics\n",
    "import matplotlib.pyplot as plt"
   ]
  },
  {
   "cell_type": "code",
   "execution_count": 61,
   "id": "ce6ca8e1",
   "metadata": {},
   "outputs": [
    {
     "name": "stdout",
     "output_type": "stream",
     "text": [
      "(500, 3)\n",
      "[1. 1. 2.]\n"
     ]
    }
   ],
   "source": [
    "#creating a dataset corresponding to the function y = x1 + x2\n",
    "y = [3]    \n",
    "s = 3\n",
    "d = 4\n",
    "for i in range (1,500):\n",
    "    s+=d\n",
    "    y.append(s)\n",
    "y += np.random.rand(len(y))    #adding random noise\n",
    "X = []    #the input matrix\n",
    "for i in range(1,1001):\n",
    "    X.append(i)\n",
    "y = np.array(y)\n",
    "X = np.array(X).reshape(y.size,2)\n",
    "X_train, X_test,y_train, y_test = train_test_split(X, y ,random_state=101, test_size=0.25, shuffle=True)\n",
    "X = np.hstack( ((np.ones((X.shape[0],1))),X) )\n",
    "w = np.zeros((X.shape[1]))\n",
    "epochs = 500\n",
    "alpha = 0.0000001\n",
    "features = X.shape[1]\n",
    "samples = X.shape[0]\n",
    "print(X.shape)\n",
    "print(X[0])"
   ]
  },
  {
   "cell_type": "code",
   "execution_count": 62,
   "id": "940d5380",
   "metadata": {},
   "outputs": [],
   "source": [
    "# for epoch_counter in range (0,epochs):\n",
    "#     for sample_counter in range(0,samples):\n",
    "#         output = np.dot(X[sample_counter],w)-t[sample_counter]\n",
    "#         for feature_counter in range(0,features):\n",
    "#             derivative = output*X[sample_counter][feature_counter]\n",
    "#             w[feature_counter]-=derivative*alpha\n",
    "#         print(w)"
   ]
  },
  {
   "cell_type": "code",
   "execution_count": 73,
   "id": "db035662",
   "metadata": {},
   "outputs": [],
   "source": [
    "class Model:\n",
    "    y = []\n",
    "    X = []\n",
    "    w = []\n",
    "    epochs = 500\n",
    "    alpha = 0.0000001\n",
    "    features = 0\n",
    "    samples = 0\n",
    "    def __init__(self,X,y,epochs = 500):\n",
    "        self.X = np.hstack((np.ones((X.shape[0],1)),X))\n",
    "        self.y = y\n",
    "        self.w = np.zeros(X.shape[1])\n",
    "    \n",
    "    def fit(self):\n",
    "        for epoch_counter in range (0,epochs):\n",
    "            for sample_counter in range(0,samples):\n",
    "                output = np.dot(X[sample_counter],w)-t[sample_counter]\n",
    "                for feature_counter in range(0,features):\n",
    "                    derivative = output*X[sample_counter][feature_counter]\n",
    "                    w[feature_counter]-=derivative*alpha\n",
    "        print(w)\n",
    "            \n",
    "    def predict(self,X_test):\n",
    "        X_test1 = np.hstack((np.ones((X_test.shape[0],1)),X_test))\n",
    "        predictions = []\n",
    "        for x in X_test1:\n",
    "            predictions.append(np.dot(x,w))\n",
    "        return np.array(predictions)"
   ]
  },
  {
   "cell_type": "code",
   "execution_count": 76,
   "id": "835d31db",
   "metadata": {},
   "outputs": [
    {
     "name": "stdout",
     "output_type": "stream",
     "text": [
      "[0.01170746 0.99438378 1.00609124]\n"
     ]
    },
    {
     "data": {
      "text/plain": [
       "array([1000.24921904])"
      ]
     },
     "execution_count": 76,
     "metadata": {},
     "output_type": "execute_result"
    }
   ],
   "source": [
    "myModel = Model(X_train,y_train)\n",
    "myModel.fit()\n",
    "myModel.predict(np.array([[500,500]]))"
   ]
  },
  {
   "cell_type": "code",
   "execution_count": 77,
   "id": "9377d415",
   "metadata": {},
   "outputs": [
    {
     "name": "stdout",
     "output_type": "stream",
     "text": [
      "[149.75464779]\n"
     ]
    }
   ],
   "source": [
    "print(myModel.predict(np.array([[100,50]])))"
   ]
  },
  {
   "cell_type": "code",
   "execution_count": null,
   "id": "f2b625ef",
   "metadata": {},
   "outputs": [],
   "source": []
  },
  {
   "cell_type": "code",
   "execution_count": null,
   "id": "8caa7812",
   "metadata": {},
   "outputs": [],
   "source": []
  }
 ],
 "metadata": {
  "kernelspec": {
   "display_name": "Python 3 (ipykernel)",
   "language": "python",
   "name": "python3"
  },
  "language_info": {
   "codemirror_mode": {
    "name": "ipython",
    "version": 3
   },
   "file_extension": ".py",
   "mimetype": "text/x-python",
   "name": "python",
   "nbconvert_exporter": "python",
   "pygments_lexer": "ipython3",
   "version": "3.10.9"
  }
 },
 "nbformat": 4,
 "nbformat_minor": 5
}
