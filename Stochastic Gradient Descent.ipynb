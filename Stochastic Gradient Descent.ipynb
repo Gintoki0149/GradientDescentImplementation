{
 "cells": [
  {
   "cell_type": "code",
   "execution_count": 25,
   "id": "a016d3fa",
   "metadata": {},
   "outputs": [],
   "source": [
    "import numpy as np\n",
    "from sklearn.model_selection import train_test_split\n",
    "import sklearn.metrics as metrics\n",
    "from sklearn.linear_model import LinearRegression\n",
    "import matplotlib.pyplot as plt\n",
    "import pandas as pd\n",
    "import seaborn as sns\n",
    "from sklearn.metrics import mean_squared_error, mean_absolute_error\n",
    "from sklearn.metrics import classification_report"
   ]
  },
  {
   "cell_type": "code",
   "execution_count": 152,
   "id": "ce6ca8e1",
   "metadata": {},
   "outputs": [
    {
     "name": "stdout",
     "output_type": "stream",
     "text": [
      "(500, 3)\n",
      "[1. 1. 2.]\n"
     ]
    }
   ],
   "source": [
    "# #creating a dataset corresponding to the function y = x1 + x2\n",
    "# y = [3]    \n",
    "# s = 3\n",
    "# d = 4\n",
    "# for i in range (1,500):\n",
    "#     s+=d\n",
    "#     y.append(s)\n",
    "# y += np.random.rand(len(y))    #adding random noise\n",
    "# X = []    #the input matrix\n",
    "# for i in range(1,1001):\n",
    "#     X.append(i)\n",
    "# # X = np.array(X)\n",
    "# # X_min = X.min()\n",
    "# # X_max = X.max()\n",
    "# # X = (X - X_min) / (X_max - X_min)\n",
    "# y = np.array(y)\n",
    "# X = np.array(X).reshape(y.size,2)\n",
    "# X_train, X_test,y_train, y_test = train_test_split(X, y ,random_state=101, test_size=0.25, shuffle=True)\n",
    "# X = np.hstack( ((np.ones((X.shape[0],1))),X) )\n",
    "# w = np.zeros((X.shape[1]))\n",
    "# epochs = 500\n",
    "# alpha = 0.1\n",
    "# features = X.shape[1]\n",
    "# samples = X.shape[0]\n",
    "# print(X.shape)\n",
    "# print(X[0])"
   ]
  },
  {
   "cell_type": "code",
   "execution_count": 153,
   "id": "940d5380",
   "metadata": {},
   "outputs": [],
   "source": [
    "# for epoch_counter in range (0,epochs):\n",
    "#     for sample_counter in range(0,samples):\n",
    "#         output = np.dot(X[sample_counter],w)-y[sample_counter]\n",
    "#         for feature_counter in range(0,features):\n",
    "#             derivative = output*X[sample_counter][feature_counter]\n",
    "#             w[feature_counter]-=derivative*alpha\n",
    "#         print(w)"
   ]
  },
  {
   "cell_type": "code",
   "execution_count": 103,
   "id": "a63883ad",
   "metadata": {
    "scrolled": true
   },
   "outputs": [],
   "source": [
    "df = pd.read_csv('synthetic_dataset.csv')\n",
    "df = df.set_index('Unnamed: 0')\n",
    "# sns.pairplot(df)\n",
    "X = df.drop(['Outcome'],axis = 1)\n",
    "y = df['Outcome']\n",
    "X_train, X_test,y_train, y_test = train_test_split(X, y ,random_state=101, test_size=0.3, shuffle=True)"
   ]
  },
  {
   "cell_type": "code",
   "execution_count": 139,
   "id": "db035662",
   "metadata": {},
   "outputs": [],
   "source": [
    "class Model:\n",
    "    y = []\n",
    "    X = []\n",
    "    w = []\n",
    "    X_min = []\n",
    "    X_max = []\n",
    "    epochs = 0\n",
    "    alpha = 0.001\n",
    "    features = 0\n",
    "    samples = 0\n",
    "    def __init__(self,X,y,epochs = 500):\n",
    "        self.X = np.hstack((np.ones((X.shape[0],1)),X))\n",
    "        self.y = np.array(y)\n",
    "        self.w = np.zeros(self.X.shape[1])\n",
    "        self.X_min = np.zeros(self.X.shape[1])\n",
    "        self.X_max = np.zeros(self.X.shape[1])\n",
    "        self.samples = X.shape[0]\n",
    "        self.epochs = epochs\n",
    "        self.features = X.shape[1]+1\n",
    "        for column in range(0,self.X.shape[1]):\n",
    "            for row in range(self.X.shape[0]):\n",
    "                if(self.X[row][column]>self.X_max[column]):\n",
    "                    self.X_max[column] = self.X[row][column]\n",
    "                if(self.X[row][column]<self.X_min[column]):\n",
    "                    self.X_min[column] = self.X[row][column]\n",
    "        self.normalize()\n",
    "        \n",
    "    def normalize(self):\n",
    "        for i in range(self.X.shape[0]):\n",
    "            for j in range(self.X.shape[1]):\n",
    "                self.X[i][j] = (self.X[i][j]-self.X_min[j])/(self.X_max[j]-self.X_min[j])\n",
    "    \n",
    "    def fit(self):\n",
    "        for epoch_counter in range (0,self.epochs):\n",
    "            for sample_counter in range(0,self.samples):\n",
    "                output = np.dot(self.X[sample_counter],self.w)-self.y[sample_counter]\n",
    "                for feature_counter in range(0,self.features):\n",
    "                    derivative = output*self.X[sample_counter][feature_counter]\n",
    "                    self.w[feature_counter]-=derivative*self.alpha\n",
    "            \n",
    "    def predict(self,X_test):\n",
    "        X_test1 = np.hstack((np.ones((X_test.shape[0],1)),X_test))\n",
    "        for i in range(X_test1.shape[0]):\n",
    "            for j in range(X_test1.shape[1]):\n",
    "                X_test1[i][j] = (X_test1[i][j]-self.X_min[j])/(self.X_max[j]-self.X_min[j])\n",
    "        predictions = []\n",
    "        for x in X_test1:\n",
    "            predictions.append(np.dot(x,self.w))\n",
    "        return np.array(predictions)"
   ]
  },
  {
   "cell_type": "code",
   "execution_count": 140,
   "id": "835d31db",
   "metadata": {},
   "outputs": [
    {
     "data": {
      "text/html": [
       "<style>#sk-container-id-15 {color: black;background-color: white;}#sk-container-id-15 pre{padding: 0;}#sk-container-id-15 div.sk-toggleable {background-color: white;}#sk-container-id-15 label.sk-toggleable__label {cursor: pointer;display: block;width: 100%;margin-bottom: 0;padding: 0.3em;box-sizing: border-box;text-align: center;}#sk-container-id-15 label.sk-toggleable__label-arrow:before {content: \"▸\";float: left;margin-right: 0.25em;color: #696969;}#sk-container-id-15 label.sk-toggleable__label-arrow:hover:before {color: black;}#sk-container-id-15 div.sk-estimator:hover label.sk-toggleable__label-arrow:before {color: black;}#sk-container-id-15 div.sk-toggleable__content {max-height: 0;max-width: 0;overflow: hidden;text-align: left;background-color: #f0f8ff;}#sk-container-id-15 div.sk-toggleable__content pre {margin: 0.2em;color: black;border-radius: 0.25em;background-color: #f0f8ff;}#sk-container-id-15 input.sk-toggleable__control:checked~div.sk-toggleable__content {max-height: 200px;max-width: 100%;overflow: auto;}#sk-container-id-15 input.sk-toggleable__control:checked~label.sk-toggleable__label-arrow:before {content: \"▾\";}#sk-container-id-15 div.sk-estimator input.sk-toggleable__control:checked~label.sk-toggleable__label {background-color: #d4ebff;}#sk-container-id-15 div.sk-label input.sk-toggleable__control:checked~label.sk-toggleable__label {background-color: #d4ebff;}#sk-container-id-15 input.sk-hidden--visually {border: 0;clip: rect(1px 1px 1px 1px);clip: rect(1px, 1px, 1px, 1px);height: 1px;margin: -1px;overflow: hidden;padding: 0;position: absolute;width: 1px;}#sk-container-id-15 div.sk-estimator {font-family: monospace;background-color: #f0f8ff;border: 1px dotted black;border-radius: 0.25em;box-sizing: border-box;margin-bottom: 0.5em;}#sk-container-id-15 div.sk-estimator:hover {background-color: #d4ebff;}#sk-container-id-15 div.sk-parallel-item::after {content: \"\";width: 100%;border-bottom: 1px solid gray;flex-grow: 1;}#sk-container-id-15 div.sk-label:hover label.sk-toggleable__label {background-color: #d4ebff;}#sk-container-id-15 div.sk-serial::before {content: \"\";position: absolute;border-left: 1px solid gray;box-sizing: border-box;top: 0;bottom: 0;left: 50%;z-index: 0;}#sk-container-id-15 div.sk-serial {display: flex;flex-direction: column;align-items: center;background-color: white;padding-right: 0.2em;padding-left: 0.2em;position: relative;}#sk-container-id-15 div.sk-item {position: relative;z-index: 1;}#sk-container-id-15 div.sk-parallel {display: flex;align-items: stretch;justify-content: center;background-color: white;position: relative;}#sk-container-id-15 div.sk-item::before, #sk-container-id-15 div.sk-parallel-item::before {content: \"\";position: absolute;border-left: 1px solid gray;box-sizing: border-box;top: 0;bottom: 0;left: 50%;z-index: -1;}#sk-container-id-15 div.sk-parallel-item {display: flex;flex-direction: column;z-index: 1;position: relative;background-color: white;}#sk-container-id-15 div.sk-parallel-item:first-child::after {align-self: flex-end;width: 50%;}#sk-container-id-15 div.sk-parallel-item:last-child::after {align-self: flex-start;width: 50%;}#sk-container-id-15 div.sk-parallel-item:only-child::after {width: 0;}#sk-container-id-15 div.sk-dashed-wrapped {border: 1px dashed gray;margin: 0 0.4em 0.5em 0.4em;box-sizing: border-box;padding-bottom: 0.4em;background-color: white;}#sk-container-id-15 div.sk-label label {font-family: monospace;font-weight: bold;display: inline-block;line-height: 1.2em;}#sk-container-id-15 div.sk-label-container {text-align: center;}#sk-container-id-15 div.sk-container {/* jupyter's `normalize.less` sets `[hidden] { display: none; }` but bootstrap.min.css set `[hidden] { display: none !important; }` so we also need the `!important` here to be able to override the default hidden behavior on the sphinx rendered scikit-learn.org. See: https://github.com/scikit-learn/scikit-learn/issues/21755 */display: inline-block !important;position: relative;}#sk-container-id-15 div.sk-text-repr-fallback {display: none;}</style><div id=\"sk-container-id-15\" class=\"sk-top-container\"><div class=\"sk-text-repr-fallback\"><pre>LinearRegression()</pre><b>In a Jupyter environment, please rerun this cell to show the HTML representation or trust the notebook. <br />On GitHub, the HTML representation is unable to render, please try loading this page with nbviewer.org.</b></div><div class=\"sk-container\" hidden><div class=\"sk-item\"><div class=\"sk-estimator sk-toggleable\"><input class=\"sk-toggleable__control sk-hidden--visually\" id=\"sk-estimator-id-15\" type=\"checkbox\" checked><label for=\"sk-estimator-id-15\" class=\"sk-toggleable__label sk-toggleable__label-arrow\">LinearRegression</label><div class=\"sk-toggleable__content\"><pre>LinearRegression()</pre></div></div></div></div></div>"
      ],
      "text/plain": [
       "LinearRegression()"
      ]
     },
     "execution_count": 140,
     "metadata": {},
     "output_type": "execute_result"
    }
   ],
   "source": [
    "myModel = Model(X_train,y_train,500)\n",
    "model = LinearRegression()\n",
    "myModel.fit()\n",
    "model.fit(X_train,y_train)"
   ]
  },
  {
   "cell_type": "code",
   "execution_count": 141,
   "id": "5b2554e3",
   "metadata": {},
   "outputs": [
    {
     "data": {
      "text/plain": [
       "[<matplotlib.lines.Line2D at 0x190cba30df0>]"
      ]
     },
     "execution_count": 141,
     "metadata": {},
     "output_type": "execute_result"
    },
    {
     "data": {
      "image/png": "[encoded data removed]",
      "text/plain": [
       "<Figure size 640x480 with 1 Axes>"
      ]
     },
     "metadata": {},
     "output_type": "display_data"
    }
   ],
   "source": [
    "myPredictions = myModel.predict(X_test)\n",
    "predictions = model.predict(X_test)\n",
    "plt.plot(predictions,myPredictions)"
   ]
  },
  {
   "cell_type": "code",
   "execution_count": 131,
   "id": "a847c0ec",
   "metadata": {},
   "outputs": [
    {
     "name": "stdout",
     "output_type": "stream",
     "text": [
      "sklearn: 0.41461568611102445 myModel: 0.4168838639754644\n"
     ]
    }
   ],
   "source": [
    "print(f\"sklearn: {np.sqrt(mean_squared_error(y_test, predictions))} myModel: {np.sqrt(mean_squared_error(y_test, myPredictions))}\")"
   ]
  },
  {
   "cell_type": "code",
   "execution_count": 132,
   "id": "c508b072",
   "metadata": {},
   "outputs": [
    {
     "data": {
      "text/plain": [
       "numpy.ndarray"
      ]
     },
     "execution_count": 132,
     "metadata": {},
     "output_type": "execute_result"
    }
   ],
   "source": [
    "type(myPredictions)"
   ]
  },
  {
   "cell_type": "code",
   "execution_count": 124,
   "id": "c2d61f7c",
   "metadata": {},
   "outputs": [
    {
     "data": {
      "text/plain": [
       "numpy.ndarray"
      ]
     },
     "execution_count": 124,
     "metadata": {},
     "output_type": "execute_result"
    }
   ],
   "source": [
    "type(predictions)"
   ]
  },
  {
   "cell_type": "code",
   "execution_count": 125,
   "id": "6e62e86a",
   "metadata": {},
   "outputs": [],
   "source": [
    "def sigmoid(x):\n",
    "    return round(1/(1 + np.exp(-x)))\n",
    "# myPredictions = myPredictions.apply(sigmoid)\n",
    "# predictions = predictions.apply(sigmoid)\n",
    "# predictions.\n",
    "# print(classification_report(y_test, predictions))"
   ]
  },
  {
   "cell_type": "code",
   "execution_count": 126,
   "id": "31927275",
   "metadata": {},
   "outputs": [],
   "source": [
    "vectorized_sigmoid = np.vectorize(sigmoid)"
   ]
  },
  {
   "cell_type": "code",
   "execution_count": 127,
   "id": "7f58b80e",
   "metadata": {},
   "outputs": [
    {
     "name": "stdout",
     "output_type": "stream",
     "text": [
      "[1 1 1 1 1 1 1 1 1 1 1 1 1 1 1 1 1 1 1 1 1 1 1 1 1 1 1 1 1 1 1 1 1 1 1 1 1\n",
      " 1 1 1 1 1 1 1 1 1 1 1 1 1 1 1 0 1 1 1 1 1 1 1 1 1 1 0 1 1 1 1 1 1 1 1 1 1\n",
      " 1 1 1 1 1 1 1 1 1 1 1 1 1 1 1 1 0 1 1 1 1 1 1 1 1 1 0 1 1 1 1 1 1 1 1 1 1\n",
      " 0 1 1 1 1 1 1 1 1 1 1 0 1 1 1 1 1 1 1 1 1 1 1 1 1 1 1 1 1 1 1 0 1 1 0 1 1\n",
      " 0 1]\n",
      "[1 1 1 1 1 1 1 1 1 1 1 1 1 1 1 1 1 1 1 1 1 1 1 1 1 1 1 1 1 1 1 1 1 1 1 1 1\n",
      " 1 1 1 1 1 1 1 1 1 1 1 1 1 1 1 0 1 1 1 1 1 1 1 1 1 1 1 1 1 1 1 1 1 1 1 1 1\n",
      " 1 1 1 1 1 1 1 1 1 1 1 1 1 1 1 1 0 1 1 1 1 1 1 1 1 1 0 1 1 1 1 1 1 1 1 1 1\n",
      " 0 1 1 1 1 1 1 1 1 1 1 0 1 1 1 1 1 1 1 1 1 1 1 1 1 1 1 1 1 1 1 0 1 1 0 1 1\n",
      " 0 1]\n",
      "[0 0 1 0 0 0 1 1 0 0 0 0 1 0 0 1 1 0 0 1 1 0 0 0 1 0 0 0 0 0 1 1 0 0 0 0 0\n",
      " 0 0 1 0 0 0 1 1 1 0 0 0 1 0 0 0 0 1 0 1 0 0 0 1 0 1 0 1 1 0 1 0 1 0 0 1 1\n",
      " 0 0 1 0 0 1 0 1 0 1 0 1 0 1 0 0 0 1 1 0 0 0 0 1 0 0 0 0 0 0 0 1 0 1 0 0 0\n",
      " 0 0 1 1 0 0 1 1 0 1 0 0 0 0 1 1 0 0 1 0 0 0 1 1 1 1 1 0 0 0 0 0 0 0 0 0 0\n",
      " 0 1]\n"
     ]
    }
   ],
   "source": [
    "predictions = vectorized_sigmoid(predictions)\n",
    "myPredictions = vectorized_sigmoid(myPredictions)\n",
    "pre = vectorized_sigmoid(y_test)\n",
    "print(predictions)\n",
    "print(myPredictions)\n",
    "print(pre)\n",
    "# print(classification_report(y_test, predictions))\n",
    "# print(\"\\n\")\n",
    "# print(classification_report(y_test,myPredictions))"
   ]
  },
  {
   "cell_type": "code",
   "execution_count": 128,
   "id": "abbbd572",
   "metadata": {},
   "outputs": [
    {
     "data": {
      "text/plain": [
       "0"
      ]
     },
     "execution_count": 128,
     "metadata": {},
     "output_type": "execute_result"
    }
   ],
   "source": [
    "round(0.2)"
   ]
  },
  {
   "cell_type": "code",
   "execution_count": 117,
   "id": "a7b4d5db",
   "metadata": {},
   "outputs": [
    {
     "name": "stdout",
     "output_type": "stream",
     "text": [
      "              precision    recall  f1-score   support\n",
      "\n",
      "           0       1.00      0.09      0.17        99\n",
      "           1       0.36      1.00      0.53        51\n",
      "\n",
      "    accuracy                           0.40       150\n",
      "   macro avg       0.68      0.55      0.35       150\n",
      "weighted avg       0.78      0.40      0.29       150\n",
      "\n"
     ]
    }
   ],
   "source": [
    "print(classification_report(y_test, predictions))"
   ]
  },
  {
   "cell_type": "code",
   "execution_count": 118,
   "id": "8d311eed",
   "metadata": {},
   "outputs": [
    {
     "name": "stdout",
     "output_type": "stream",
     "text": [
      "              precision    recall  f1-score   support\n",
      "\n",
      "           0       1.00      0.08      0.15        99\n",
      "           1       0.36      1.00      0.53        51\n",
      "\n",
      "    accuracy                           0.39       150\n",
      "   macro avg       0.68      0.54      0.34       150\n",
      "weighted avg       0.78      0.39      0.28       150\n",
      "\n"
     ]
    }
   ],
   "source": [
    "print(classification_report(y_test, myPredictions))"
   ]
  },
  {
   "cell_type": "code",
   "execution_count": null,
   "id": "dbc56236",
   "metadata": {},
   "outputs": [],
   "source": []
  },
  {
   "cell_type": "code",
   "execution_count": null,
   "id": "ca26edf4",
   "metadata": {},
   "outputs": [],
   "source": []
  }
 ],
 "metadata": {
  "kernelspec": {
   "display_name": "Python 3 (ipykernel)",
   "language": "python",
   "name": "python3"
  },
  "language_info": {
   "codemirror_mode": {
    "name": "ipython",
    "version": 3
   },
   "file_extension": ".py",
   "mimetype": "text/x-python",
   "name": "python",
   "nbconvert_exporter": "python",
   "pygments_lexer": "ipython3",
   "version": "3.10.9"
  }
 },
 "nbformat": 4,
 "nbformat_minor": 5
}
