{
 "cells": [
  {
   "cell_type": "code",
   "execution_count": 29,
   "id": "887fe263",
   "metadata": {},
   "outputs": [],
   "source": [
    "import numpy as np\n",
    "from sklearn.model_selection import train_test_split\n",
    "import sklearn.metrics as metrics\n",
    "from sklearn.linear_model import LinearRegression\n",
    "import matplotlib.pyplot as plt\n",
    "import pandas as pd\n",
    "import seaborn as sns\n",
    "from sklearn.metrics import mean_squared_error, mean_absolute_error\n",
    "from sklearn.metrics import classification_report\n",
    "from sklearn.metrics import confusion_matrix\n",
    "from sklearn.preprocessing import StandardScaler"
   ]
  },
  {
   "cell_type": "code",
   "execution_count": 30,
   "id": "814535aa",
   "metadata": {},
   "outputs": [],
   "source": [
    "df = pd.read_csv('synthetic_dataset.csv')\n",
    "df = df.set_index('Unnamed: 0')\n",
    "scaler = StandardScaler()\n",
    "df[df.drop(['Outcome'],axis=1).columns] = scaler.fit_transform(df[df.drop(['Outcome'],axis=1).columns])\n",
    "X = df.drop(['Outcome'],axis = 1)\n",
    "y = df['Outcome']\n",
    "X_train, X_test,y_train, y_test = train_test_split(X, y ,random_state=101, test_size=0.3, shuffle=True)\n",
    "# sns.pairplot(df)"
   ]
  },
  {
   "cell_type": "code",
   "execution_count": 72,
   "id": "6c5a223b",
   "metadata": {},
   "outputs": [],
   "source": [
    "class Model:\n",
    "    y = []\n",
    "    X = []\n",
    "    w = []\n",
    "#     alpha = 0.001\n",
    "    features = 0\n",
    "    samples = 0\n",
    "    def __init__(self,X,y,epochs = 500, alpha = 0.1):\n",
    "        self.X = np.hstack((np.ones((X.shape[0],1)),X))\n",
    "        self.y = np.array(y)\n",
    "        self.w = np.zeros(self.X.shape[1])\n",
    "        self.samples = X.shape[0]\n",
    "        self.epochs = epochs\n",
    "        self.alpha = alpha\n",
    "        self.features = X.shape[1]+1\n",
    "    \n",
    "    def fit(self):\n",
    "        for epoch_counter in range (0,self.epochs):\n",
    "            for sample_counter in range(0,self.samples):\n",
    "                output = np.dot(self.X[sample_counter],self.w)-self.y[sample_counter]\n",
    "                for feature_counter in range(0,self.features):\n",
    "                    derivative = output*self.X[sample_counter][feature_counter]\n",
    "                    self.w[feature_counter]-=derivative*self.alpha\n",
    "            \n",
    "    def predict(self,X_test):\n",
    "        X_test1 = np.hstack((np.ones((X_test.shape[0],1)),X_test))\n",
    "        predictions = []\n",
    "        for x in X_test1:\n",
    "            predictions.append(np.dot(x,self.w))\n",
    "        return np.array(predictions)"
   ]
  },
  {
   "cell_type": "code",
   "execution_count": 87,
   "id": "de8f9735",
   "metadata": {},
   "outputs": [
    {
     "data": {
      "text/html": [
       "<style>#sk-container-id-13 {color: black;background-color: white;}#sk-container-id-13 pre{padding: 0;}#sk-container-id-13 div.sk-toggleable {background-color: white;}#sk-container-id-13 label.sk-toggleable__label {cursor: pointer;display: block;width: 100%;margin-bottom: 0;padding: 0.3em;box-sizing: border-box;text-align: center;}#sk-container-id-13 label.sk-toggleable__label-arrow:before {content: \"▸\";float: left;margin-right: 0.25em;color: #696969;}#sk-container-id-13 label.sk-toggleable__label-arrow:hover:before {color: black;}#sk-container-id-13 div.sk-estimator:hover label.sk-toggleable__label-arrow:before {color: black;}#sk-container-id-13 div.sk-toggleable__content {max-height: 0;max-width: 0;overflow: hidden;text-align: left;background-color: #f0f8ff;}#sk-container-id-13 div.sk-toggleable__content pre {margin: 0.2em;color: black;border-radius: 0.25em;background-color: #f0f8ff;}#sk-container-id-13 input.sk-toggleable__control:checked~div.sk-toggleable__content {max-height: 200px;max-width: 100%;overflow: auto;}#sk-container-id-13 input.sk-toggleable__control:checked~label.sk-toggleable__label-arrow:before {content: \"▾\";}#sk-container-id-13 div.sk-estimator input.sk-toggleable__control:checked~label.sk-toggleable__label {background-color: #d4ebff;}#sk-container-id-13 div.sk-label input.sk-toggleable__control:checked~label.sk-toggleable__label {background-color: #d4ebff;}#sk-container-id-13 input.sk-hidden--visually {border: 0;clip: rect(1px 1px 1px 1px);clip: rect(1px, 1px, 1px, 1px);height: 1px;margin: -1px;overflow: hidden;padding: 0;position: absolute;width: 1px;}#sk-container-id-13 div.sk-estimator {font-family: monospace;background-color: #f0f8ff;border: 1px dotted black;border-radius: 0.25em;box-sizing: border-box;margin-bottom: 0.5em;}#sk-container-id-13 div.sk-estimator:hover {background-color: #d4ebff;}#sk-container-id-13 div.sk-parallel-item::after {content: \"\";width: 100%;border-bottom: 1px solid gray;flex-grow: 1;}#sk-container-id-13 div.sk-label:hover label.sk-toggleable__label {background-color: #d4ebff;}#sk-container-id-13 div.sk-serial::before {content: \"\";position: absolute;border-left: 1px solid gray;box-sizing: border-box;top: 0;bottom: 0;left: 50%;z-index: 0;}#sk-container-id-13 div.sk-serial {display: flex;flex-direction: column;align-items: center;background-color: white;padding-right: 0.2em;padding-left: 0.2em;position: relative;}#sk-container-id-13 div.sk-item {position: relative;z-index: 1;}#sk-container-id-13 div.sk-parallel {display: flex;align-items: stretch;justify-content: center;background-color: white;position: relative;}#sk-container-id-13 div.sk-item::before, #sk-container-id-13 div.sk-parallel-item::before {content: \"\";position: absolute;border-left: 1px solid gray;box-sizing: border-box;top: 0;bottom: 0;left: 50%;z-index: -1;}#sk-container-id-13 div.sk-parallel-item {display: flex;flex-direction: column;z-index: 1;position: relative;background-color: white;}#sk-container-id-13 div.sk-parallel-item:first-child::after {align-self: flex-end;width: 50%;}#sk-container-id-13 div.sk-parallel-item:last-child::after {align-self: flex-start;width: 50%;}#sk-container-id-13 div.sk-parallel-item:only-child::after {width: 0;}#sk-container-id-13 div.sk-dashed-wrapped {border: 1px dashed gray;margin: 0 0.4em 0.5em 0.4em;box-sizing: border-box;padding-bottom: 0.4em;background-color: white;}#sk-container-id-13 div.sk-label label {font-family: monospace;font-weight: bold;display: inline-block;line-height: 1.2em;}#sk-container-id-13 div.sk-label-container {text-align: center;}#sk-container-id-13 div.sk-container {/* jupyter's `normalize.less` sets `[hidden] { display: none; }` but bootstrap.min.css set `[hidden] { display: none !important; }` so we also need the `!important` here to be able to override the default hidden behavior on the sphinx rendered scikit-learn.org. See: https://github.com/scikit-learn/scikit-learn/issues/21755 */display: inline-block !important;position: relative;}#sk-container-id-13 div.sk-text-repr-fallback {display: none;}</style><div id=\"sk-container-id-13\" class=\"sk-top-container\"><div class=\"sk-text-repr-fallback\"><pre>LinearRegression()</pre><b>In a Jupyter environment, please rerun this cell to show the HTML representation or trust the notebook. <br />On GitHub, the HTML representation is unable to render, please try loading this page with nbviewer.org.</b></div><div class=\"sk-container\" hidden><div class=\"sk-item\"><div class=\"sk-estimator sk-toggleable\"><input class=\"sk-toggleable__control sk-hidden--visually\" id=\"sk-estimator-id-13\" type=\"checkbox\" checked><label for=\"sk-estimator-id-13\" class=\"sk-toggleable__label sk-toggleable__label-arrow\">LinearRegression</label><div class=\"sk-toggleable__content\"><pre>LinearRegression()</pre></div></div></div></div></div>"
      ],
      "text/plain": [
       "LinearRegression()"
      ]
     },
     "execution_count": 87,
     "metadata": {},
     "output_type": "execute_result"
    }
   ],
   "source": [
    "myModel = Model(X_train,y_train,200,0.001)\n",
    "model = LinearRegression()\n",
    "myModel.fit()\n",
    "model.fit(X_train,y_train)"
   ]
  },
  {
   "cell_type": "code",
   "execution_count": 88,
   "id": "6e8793dd",
   "metadata": {},
   "outputs": [
    {
     "name": "stdout",
     "output_type": "stream",
     "text": [
      "sklearn: 0.41461568611102434 myModel: 0.41496756416132535\n"
     ]
    },
    {
     "data": {
      "image/png": "[encoded data removed]",
      "text/plain": [
       "<Figure size 640x480 with 1 Axes>"
      ]
     },
     "metadata": {},
     "output_type": "display_data"
    }
   ],
   "source": [
    "myPredictions = myModel.predict(X_test)\n",
    "predictions = model.predict(X_test)\n",
    "plt.plot(predictions,myPredictions)\n",
    "print(f\"sklearn: {np.sqrt(mean_squared_error(y_test, predictions))} myModel: {np.sqrt(mean_squared_error(y_test, myPredictions))}\")"
   ]
  },
  {
   "cell_type": "code",
   "execution_count": 80,
   "id": "9a274d99",
   "metadata": {},
   "outputs": [],
   "source": [
    "def discriminant(x):\n",
    "    if x<0.5:\n",
    "        return 0\n",
    "    return 1"
   ]
  },
  {
   "cell_type": "code",
   "execution_count": 81,
   "id": "ee61a813",
   "metadata": {},
   "outputs": [
    {
     "data": {
      "text/plain": [
       "array([ 0.15883708,  0.24839883,  0.30206735,  0.29357294,  0.15361517,\n",
       "        0.37059991,  0.52216359,  0.3454799 ,  0.29991831,  0.30315438,\n",
       "        0.45539386,  0.14987605,  0.46591738,  0.15356901,  0.20254758,\n",
       "        0.77817361,  0.19689251,  0.17757056,  0.11060374,  0.64866936,\n",
       "        0.67987241,  0.38334793,  0.47481045,  0.23337967,  0.26565176,\n",
       "        0.13701805,  0.23565512,  0.13073259,  0.36107037,  0.46027753,\n",
       "        0.61240812,  0.39924841,  0.47587578,  0.1750808 ,  0.11873233,\n",
       "        0.28478279,  0.2644295 ,  0.40104279,  0.51026769,  0.30436534,\n",
       "        0.25055053,  0.12733449,  0.2692704 ,  0.22077474,  0.32089993,\n",
       "        0.5082737 ,  0.24930028,  0.07970481,  0.72766117,  0.54389281,\n",
       "        0.42481426,  0.44715958, -0.04814677,  0.48517327,  0.62431976,\n",
       "        0.02525115,  0.71520352,  0.5147475 ,  0.32587922,  0.59668655,\n",
       "        0.63148603,  0.48478893,  0.5999218 ,  0.02420797,  0.5057535 ,\n",
       "        0.58028045,  0.21189473,  0.47932663,  0.23609321,  0.61385227,\n",
       "        0.31784983,  0.18337921,  0.59565193,  0.47699821,  0.22178799,\n",
       "       -0.01549709,  0.91235958,  0.32594423,  0.11387931,  0.53659844,\n",
       "        0.51114122,  0.34589037,  0.23425573,  0.37351076,  0.19936894,\n",
       "        0.40516804,  0.21344382,  0.47338676,  0.0621418 ,  0.33332276,\n",
       "       -0.05778221,  0.5210754 ,  0.20541108,  0.24596382,  0.24438564,\n",
       "        0.32014377,  0.25391391,  0.66389868,  0.23146321,  0.44178279,\n",
       "        0.04503857,  0.66151306,  0.3627237 ,  0.35496383,  0.54722864,\n",
       "        0.49607173,  0.27576159,  0.55035954,  0.28958627,  0.02416817,\n",
       "        0.34374483, -0.07222331,  0.26334701,  0.42036116,  0.47192288,\n",
       "        0.12273079,  0.26520209,  0.58394666,  0.3305292 ,  0.35916996,\n",
       "        0.31573047,  0.46345422, -0.07254162,  0.30625048,  0.316742  ,\n",
       "        0.6182976 ,  0.3181745 ,  0.41005785,  0.29173194,  0.25897463,\n",
       "        0.68662074,  0.5190947 ,  0.82481607,  0.33134251,  0.26772896,\n",
       "        0.47589897,  0.49744367,  0.32652295,  0.58236804,  0.47292036,\n",
       "        0.23968096,  0.38281761, -0.09401837,  0.37873115,  0.43160861,\n",
       "        0.07215842,  0.28843693,  0.37190652,  0.06859329,  0.61875064])"
      ]
     },
     "execution_count": 81,
     "metadata": {},
     "output_type": "execute_result"
    }
   ],
   "source": [
    "myPredictions"
   ]
  },
  {
   "cell_type": "code",
   "execution_count": 82,
   "id": "a38ae6ae",
   "metadata": {},
   "outputs": [
    {
     "data": {
      "text/plain": [
       "array([0, 0, 0, 0, 0, 0, 1, 0, 0, 0, 1, 0, 1, 0, 0, 1, 0, 0, 0, 1, 1, 0,\n",
       "       0, 0, 0, 0, 0, 0, 0, 0, 1, 1, 0, 0, 0, 0, 0, 0, 1, 0, 0, 0, 0, 0,\n",
       "       0, 1, 0, 0, 1, 1, 0, 0, 0, 1, 1, 0, 1, 0, 0, 1, 1, 0, 1, 0, 1, 1,\n",
       "       0, 0, 0, 1, 0, 0, 1, 0, 0, 0, 1, 0, 0, 1, 0, 0, 0, 0, 0, 0, 0, 0,\n",
       "       0, 0, 0, 1, 0, 0, 0, 0, 0, 1, 0, 1, 0, 1, 0, 0, 0, 1, 0, 1, 0, 0,\n",
       "       0, 0, 0, 1, 0, 0, 0, 1, 0, 0, 0, 0, 0, 0, 0, 1, 0, 1, 0, 0, 1, 1,\n",
       "       1, 0, 0, 1, 0, 0, 0, 0, 0, 0, 0, 0, 0, 0, 0, 0, 0, 1])"
      ]
     },
     "execution_count": 82,
     "metadata": {},
     "output_type": "execute_result"
    }
   ],
   "source": [
    "vectorized_discriminant = np.vectorize(discriminant)\n",
    "rounded_predictions = vectorized_discriminant(predictions)\n",
    "rounded_predictions"
   ]
  },
  {
   "cell_type": "code",
   "execution_count": 83,
   "id": "11a75e3b",
   "metadata": {},
   "outputs": [
    {
     "name": "stdout",
     "output_type": "stream",
     "text": [
      "              precision    recall  f1-score   support\n",
      "\n",
      "     class 0       0.79      0.89      0.84        99\n",
      "     class 1       0.72      0.55      0.62        51\n",
      "\n",
      "    accuracy                           0.77       150\n",
      "   macro avg       0.76      0.72      0.73       150\n",
      "weighted avg       0.77      0.77      0.76       150\n",
      "\n"
     ]
    }
   ],
   "source": [
    "print(classification_report(y_test, rounded_predictions, target_names=[\"class 0\",\"class 1\"]))"
   ]
  },
  {
   "cell_type": "code",
   "execution_count": 84,
   "id": "b7b78d02",
   "metadata": {},
   "outputs": [
    {
     "data": {
      "text/plain": [
       "array([0, 0, 0, 0, 0, 0, 1, 0, 0, 0, 1, 0, 1, 0, 0, 1, 0, 0, 0, 1, 1, 0,\n",
       "       0, 0, 0, 0, 0, 0, 0, 0, 1, 1, 0, 0, 0, 0, 0, 0, 1, 0, 0, 0, 0, 0,\n",
       "       0, 1, 0, 0, 1, 1, 0, 0, 0, 1, 1, 0, 1, 0, 0, 1, 1, 0, 1, 0, 1, 1,\n",
       "       0, 0, 0, 1, 0, 0, 1, 0, 0, 0, 1, 0, 0, 1, 0, 0, 0, 0, 0, 0, 0, 0,\n",
       "       0, 0, 0, 1, 0, 0, 0, 0, 0, 1, 0, 1, 0, 1, 0, 0, 0, 1, 0, 1, 0, 0,\n",
       "       0, 0, 0, 1, 0, 0, 0, 1, 0, 0, 0, 0, 0, 0, 0, 1, 0, 1, 0, 0, 1, 1,\n",
       "       1, 0, 0, 1, 0, 0, 0, 0, 0, 0, 0, 0, 0, 0, 0, 0, 0, 1])"
      ]
     },
     "execution_count": 84,
     "metadata": {},
     "output_type": "execute_result"
    }
   ],
   "source": [
    "rounded_mypredictions = vectorized_discriminant(predictions)\n",
    "rounded_mypredictions"
   ]
  },
  {
   "cell_type": "code",
   "execution_count": 67,
   "id": "39ad53ab",
   "metadata": {},
   "outputs": [
    {
     "name": "stdout",
     "output_type": "stream",
     "text": [
      "              precision    recall  f1-score   support\n",
      "\n",
      "     class 0       0.79      0.89      0.84        99\n",
      "     class 1       0.72      0.55      0.62        51\n",
      "\n",
      "    accuracy                           0.77       150\n",
      "   macro avg       0.76      0.72      0.73       150\n",
      "weighted avg       0.77      0.77      0.76       150\n",
      "\n"
     ]
    }
   ],
   "source": [
    "print(classification_report(y_test, rounded_mypredictions, target_names=[\"class 0\",\"class 1\"]))"
   ]
  },
  {
   "cell_type": "code",
   "execution_count": 68,
   "id": "447cda28",
   "metadata": {},
   "outputs": [
    {
     "name": "stdout",
     "output_type": "stream",
     "text": [
      "[[88 11]\n",
      " [23 28]]\n"
     ]
    }
   ],
   "source": [
    "print(confusion_matrix(y_test,rounded_mypredictions))"
   ]
  },
  {
   "cell_type": "code",
   "execution_count": null,
   "id": "dae8b4d6",
   "metadata": {},
   "outputs": [],
   "source": []
  }
 ],
 "metadata": {
  "kernelspec": {
   "display_name": "Python 3 (ipykernel)",
   "language": "python",
   "name": "python3"
  },
  "language_info": {
   "codemirror_mode": {
    "name": "ipython",
    "version": 3
   },
   "file_extension": ".py",
   "mimetype": "text/x-python",
   "name": "python",
   "nbconvert_exporter": "python",
   "pygments_lexer": "ipython3",
   "version": "3.10.9"
  }
 },
 "nbformat": 4,
 "nbformat_minor": 5
}
