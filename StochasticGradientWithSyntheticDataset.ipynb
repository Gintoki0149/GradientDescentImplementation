{
 "cells": [
  {
   "cell_type": "code",
   "execution_count": 1,
   "id": "887fe263",
   "metadata": {},
   "outputs": [],
   "source": [
    "import numpy as np\n",
    "from sklearn.model_selection import train_test_split\n",
    "import sklearn.metrics as metrics\n",
    "from sklearn.linear_model import LinearRegression\n",
    "import matplotlib.pyplot as plt\n",
    "import pandas as pd\n",
    "import seaborn as sns\n",
    "from sklearn.metrics import mean_squared_error, mean_absolute_error\n",
    "from sklearn.metrics import classification_report"
   ]
  },
  {
   "cell_type": "code",
   "execution_count": 3,
   "id": "814535aa",
   "metadata": {},
   "outputs": [],
   "source": [
    "df = pd.read_csv('synthetic_dataset.csv')\n",
    "df = df.set_index('Unnamed: 0')\n",
    "from sklearn.preprocessing import StandardScaler\n",
    "scaler = StandardScaler()\n",
    "df[df.drop(['Outcome'],axis=1).columns] = scaler.fit_transform(df[df.drop(['Outcome'],axis=1).columns])\n",
    "X = df.drop(['Outcome'],axis = 1)\n",
    "y = df['Outcome']\n",
    "X_train, X_test,y_train, y_test = train_test_split(X, y ,random_state=101, test_size=0.3, shuffle=True)\n",
    "# sns.pairplot(df)"
   ]
  },
  {
   "cell_type": "code",
   "execution_count": 21,
   "id": "6c5a223b",
   "metadata": {},
   "outputs": [],
   "source": [
    "class Model:\n",
    "    y = []\n",
    "    X = []\n",
    "    w = []\n",
    "    epochs = 0\n",
    "    alpha = 0.0001\n",
    "    features = 0\n",
    "    samples = 0\n",
    "    def __init__(self,X,y,epochs = 500):\n",
    "        self.X = np.hstack((np.ones((X.shape[0],1)),X))\n",
    "        self.y = np.array(y)\n",
    "        self.w = np.zeros(self.X.shape[1])\n",
    "        self.samples = X.shape[0]\n",
    "        self.epochs = epochs\n",
    "        self.features = X.shape[1]+1\n",
    "    \n",
    "    def fit(self):\n",
    "        for epoch_counter in range (0,self.epochs):\n",
    "            for sample_counter in range(0,self.samples):\n",
    "                output = np.dot(self.X[sample_counter],self.w)-self.y[sample_counter]\n",
    "                for feature_counter in range(0,self.features):\n",
    "                    derivative = output*self.X[sample_counter][feature_counter]\n",
    "                    self.w[feature_counter]-=derivative*self.alpha\n",
    "            \n",
    "    def predict(self,X_test):\n",
    "        X_test1 = np.hstack((np.ones((X_test.shape[0],1)),X_test))\n",
    "        predictions = []\n",
    "        for x in X_test1:\n",
    "            predictions.append(np.dot(x,self.w))\n",
    "        return np.array(predictions)"
   ]
  },
  {
   "cell_type": "code",
   "execution_count": 22,
   "id": "de8f9735",
   "metadata": {},
   "outputs": [
    {
     "data": {
      "text/html": [
       "<style>#sk-container-id-4 {color: black;background-color: white;}#sk-container-id-4 pre{padding: 0;}#sk-container-id-4 div.sk-toggleable {background-color: white;}#sk-container-id-4 label.sk-toggleable__label {cursor: pointer;display: block;width: 100%;margin-bottom: 0;padding: 0.3em;box-sizing: border-box;text-align: center;}#sk-container-id-4 label.sk-toggleable__label-arrow:before {content: \"▸\";float: left;margin-right: 0.25em;color: #696969;}#sk-container-id-4 label.sk-toggleable__label-arrow:hover:before {color: black;}#sk-container-id-4 div.sk-estimator:hover label.sk-toggleable__label-arrow:before {color: black;}#sk-container-id-4 div.sk-toggleable__content {max-height: 0;max-width: 0;overflow: hidden;text-align: left;background-color: #f0f8ff;}#sk-container-id-4 div.sk-toggleable__content pre {margin: 0.2em;color: black;border-radius: 0.25em;background-color: #f0f8ff;}#sk-container-id-4 input.sk-toggleable__control:checked~div.sk-toggleable__content {max-height: 200px;max-width: 100%;overflow: auto;}#sk-container-id-4 input.sk-toggleable__control:checked~label.sk-toggleable__label-arrow:before {content: \"▾\";}#sk-container-id-4 div.sk-estimator input.sk-toggleable__control:checked~label.sk-toggleable__label {background-color: #d4ebff;}#sk-container-id-4 div.sk-label input.sk-toggleable__control:checked~label.sk-toggleable__label {background-color: #d4ebff;}#sk-container-id-4 input.sk-hidden--visually {border: 0;clip: rect(1px 1px 1px 1px);clip: rect(1px, 1px, 1px, 1px);height: 1px;margin: -1px;overflow: hidden;padding: 0;position: absolute;width: 1px;}#sk-container-id-4 div.sk-estimator {font-family: monospace;background-color: #f0f8ff;border: 1px dotted black;border-radius: 0.25em;box-sizing: border-box;margin-bottom: 0.5em;}#sk-container-id-4 div.sk-estimator:hover {background-color: #d4ebff;}#sk-container-id-4 div.sk-parallel-item::after {content: \"\";width: 100%;border-bottom: 1px solid gray;flex-grow: 1;}#sk-container-id-4 div.sk-label:hover label.sk-toggleable__label {background-color: #d4ebff;}#sk-container-id-4 div.sk-serial::before {content: \"\";position: absolute;border-left: 1px solid gray;box-sizing: border-box;top: 0;bottom: 0;left: 50%;z-index: 0;}#sk-container-id-4 div.sk-serial {display: flex;flex-direction: column;align-items: center;background-color: white;padding-right: 0.2em;padding-left: 0.2em;position: relative;}#sk-container-id-4 div.sk-item {position: relative;z-index: 1;}#sk-container-id-4 div.sk-parallel {display: flex;align-items: stretch;justify-content: center;background-color: white;position: relative;}#sk-container-id-4 div.sk-item::before, #sk-container-id-4 div.sk-parallel-item::before {content: \"\";position: absolute;border-left: 1px solid gray;box-sizing: border-box;top: 0;bottom: 0;left: 50%;z-index: -1;}#sk-container-id-4 div.sk-parallel-item {display: flex;flex-direction: column;z-index: 1;position: relative;background-color: white;}#sk-container-id-4 div.sk-parallel-item:first-child::after {align-self: flex-end;width: 50%;}#sk-container-id-4 div.sk-parallel-item:last-child::after {align-self: flex-start;width: 50%;}#sk-container-id-4 div.sk-parallel-item:only-child::after {width: 0;}#sk-container-id-4 div.sk-dashed-wrapped {border: 1px dashed gray;margin: 0 0.4em 0.5em 0.4em;box-sizing: border-box;padding-bottom: 0.4em;background-color: white;}#sk-container-id-4 div.sk-label label {font-family: monospace;font-weight: bold;display: inline-block;line-height: 1.2em;}#sk-container-id-4 div.sk-label-container {text-align: center;}#sk-container-id-4 div.sk-container {/* jupyter's `normalize.less` sets `[hidden] { display: none; }` but bootstrap.min.css set `[hidden] { display: none !important; }` so we also need the `!important` here to be able to override the default hidden behavior on the sphinx rendered scikit-learn.org. See: https://github.com/scikit-learn/scikit-learn/issues/21755 */display: inline-block !important;position: relative;}#sk-container-id-4 div.sk-text-repr-fallback {display: none;}</style><div id=\"sk-container-id-4\" class=\"sk-top-container\"><div class=\"sk-text-repr-fallback\"><pre>LinearRegression()</pre><b>In a Jupyter environment, please rerun this cell to show the HTML representation or trust the notebook. <br />On GitHub, the HTML representation is unable to render, please try loading this page with nbviewer.org.</b></div><div class=\"sk-container\" hidden><div class=\"sk-item\"><div class=\"sk-estimator sk-toggleable\"><input class=\"sk-toggleable__control sk-hidden--visually\" id=\"sk-estimator-id-4\" type=\"checkbox\" checked><label for=\"sk-estimator-id-4\" class=\"sk-toggleable__label sk-toggleable__label-arrow\">LinearRegression</label><div class=\"sk-toggleable__content\"><pre>LinearRegression()</pre></div></div></div></div></div>"
      ],
      "text/plain": [
       "LinearRegression()"
      ]
     },
     "execution_count": 22,
     "metadata": {},
     "output_type": "execute_result"
    }
   ],
   "source": [
    "myModel = Model(X_train,y_train,500)\n",
    "model = LinearRegression()\n",
    "myModel.fit()\n",
    "model.fit(X_train,y_train)"
   ]
  },
  {
   "cell_type": "code",
   "execution_count": 27,
   "id": "6e8793dd",
   "metadata": {},
   "outputs": [
    {
     "name": "stdout",
     "output_type": "stream",
     "text": [
      "sklearn: 0.41461568611102434 myModel: 0.4147124968514467\n"
     ]
    },
    {
     "data": {
      "image/png": "[encoded data removed]",
      "text/plain": [
       "<Figure size 640x480 with 1 Axes>"
      ]
     },
     "metadata": {},
     "output_type": "display_data"
    }
   ],
   "source": [
    "myPredictions = myModel.predict(X_test)\n",
    "predictions = model.predict(X_test)\n",
    "plt.plot(predictions,myPredictions)\n",
    "print(f\"sklearn: {np.sqrt(mean_squared_error(y_test, predictions))} myModel: {np.sqrt(mean_squared_error(y_test, myPredictions))}\")"
   ]
  },
  {
   "cell_type": "code",
   "execution_count": 8,
   "id": "9a274d99",
   "metadata": {},
   "outputs": [],
   "source": [
    "def discriminant(x):\n",
    "    if x<0.5:\n",
    "        return 0\n",
    "    return 1"
   ]
  },
  {
   "cell_type": "code",
   "execution_count": 24,
   "id": "ee61a813",
   "metadata": {},
   "outputs": [
    {
     "data": {
      "text/plain": [
       "array([ 0.06746556,  0.12914389,  0.25960698,  0.31355957,  0.1947819 ,\n",
       "        0.42057293,  0.50844102,  0.32646495,  0.33374444,  0.33269761,\n",
       "        0.54371207,  0.07581835,  0.52876973,  0.05933594,  0.09307362,\n",
       "        0.73287999,  0.20986243,  0.16499109,  0.08147895,  0.66056715,\n",
       "        0.66159166,  0.24166363,  0.41499866,  0.13719125,  0.20615113,\n",
       "        0.00761895,  0.08664778,  0.12149024,  0.2805608 ,  0.4556379 ,\n",
       "        0.70978372,  0.50313703,  0.48843523,  0.1997883 ,  0.01046912,\n",
       "        0.33360071,  0.20408974,  0.33463813,  0.58723269,  0.22121652,\n",
       "        0.2301955 ,  0.09129642,  0.10252485,  0.15124353,  0.25668299,\n",
       "        0.53119492,  0.14200695,  0.08124327,  0.70049537,  0.51602161,\n",
       "        0.4078787 ,  0.49726322, -0.05119437,  0.5455937 ,  0.63212261,\n",
       "        0.04586685,  0.73284911,  0.47960243,  0.44476717,  0.56753805,\n",
       "        0.6953387 ,  0.45299885,  0.59330318, -0.03417507,  0.60737654,\n",
       "        0.55806517,  0.2659533 ,  0.48130075,  0.12112245,  0.61936053,\n",
       "        0.25059732,  0.16626132,  0.71716544,  0.42110675,  0.22938693,\n",
       "        0.06049036,  0.93879257,  0.24090509,  0.08757785,  0.56383868,\n",
       "        0.41687839,  0.33534256,  0.19355121,  0.28761964,  0.14966616,\n",
       "        0.42395048,  0.19625967,  0.44555361,  0.02020458,  0.25362279,\n",
       "       -0.028011  ,  0.55289283,  0.19306676,  0.20594328,  0.15735179,\n",
       "        0.29640988,  0.22435241,  0.60907736,  0.17728618,  0.50376761,\n",
       "       -0.03845578,  0.6110342 ,  0.27920754,  0.41967728,  0.44395196,\n",
       "        0.59648541,  0.26078498,  0.56849239,  0.32347718,  0.11883478,\n",
       "        0.40088452, -0.12442809,  0.19493909,  0.50186051,  0.43490815,\n",
       "        0.08245698,  0.22858815,  0.62135223,  0.32288564,  0.37508499,\n",
       "        0.23961779,  0.40860578, -0.23327242,  0.40745364,  0.33832945,\n",
       "        0.67316339,  0.3413429 ,  0.517724  ,  0.25765134,  0.27175346,\n",
       "        0.76185448,  0.55216121,  0.79551275,  0.33443818,  0.31087493,\n",
       "        0.60308503,  0.38763491,  0.36129567,  0.4951692 ,  0.45945415,\n",
       "        0.2889456 ,  0.32832453, -0.03216473,  0.31733445,  0.31475059,\n",
       "       -0.05233949,  0.20687367,  0.36309941, -0.09904119,  0.68075747])"
      ]
     },
     "execution_count": 24,
     "metadata": {},
     "output_type": "execute_result"
    }
   ],
   "source": [
    "myPredictions"
   ]
  },
  {
   "cell_type": "code",
   "execution_count": 12,
   "id": "a38ae6ae",
   "metadata": {},
   "outputs": [
    {
     "data": {
      "text/plain": [
       "array([0, 0, 0, 0, 0, 0, 1, 0, 0, 0, 1, 0, 1, 0, 0, 1, 0, 0, 0, 1, 1, 0,\n",
       "       0, 0, 0, 0, 0, 0, 0, 0, 1, 1, 0, 0, 0, 0, 0, 0, 1, 0, 0, 0, 0, 0,\n",
       "       0, 1, 0, 0, 1, 1, 0, 0, 0, 1, 1, 0, 1, 0, 0, 1, 1, 0, 1, 0, 1, 1,\n",
       "       0, 0, 0, 1, 0, 0, 1, 0, 0, 0, 1, 0, 0, 1, 0, 0, 0, 0, 0, 0, 0, 0,\n",
       "       0, 0, 0, 1, 0, 0, 0, 0, 0, 1, 0, 1, 0, 1, 0, 0, 0, 1, 0, 1, 0, 0,\n",
       "       0, 0, 0, 1, 0, 0, 0, 1, 0, 0, 0, 0, 0, 0, 0, 1, 0, 1, 0, 0, 1, 1,\n",
       "       1, 0, 0, 1, 0, 0, 0, 0, 0, 0, 0, 0, 0, 0, 0, 0, 0, 1])"
      ]
     },
     "execution_count": 12,
     "metadata": {},
     "output_type": "execute_result"
    }
   ],
   "source": [
    "vectorized_discriminant = np.vectorize(discriminant)\n",
    "rounded_predictions = vectorized_discriminant(predictions)\n",
    "rounded_predictions"
   ]
  },
  {
   "cell_type": "code",
   "execution_count": 14,
   "id": "11a75e3b",
   "metadata": {},
   "outputs": [
    {
     "name": "stdout",
     "output_type": "stream",
     "text": [
      "              precision    recall  f1-score   support\n",
      "\n",
      "     class 0       0.79      0.89      0.84        99\n",
      "     class 1       0.72      0.55      0.62        51\n",
      "\n",
      "    accuracy                           0.77       150\n",
      "   macro avg       0.76      0.72      0.73       150\n",
      "weighted avg       0.77      0.77      0.76       150\n",
      "\n"
     ]
    }
   ],
   "source": [
    "print(classification_report(y_test, rounded_predictions, target_names=[\"class 0\",\"class 1\"]))"
   ]
  },
  {
   "cell_type": "code",
   "execution_count": 25,
   "id": "b7b78d02",
   "metadata": {},
   "outputs": [
    {
     "data": {
      "text/plain": [
       "array([0, 0, 0, 0, 0, 0, 1, 0, 0, 0, 1, 0, 1, 0, 0, 1, 0, 0, 0, 1, 1, 0,\n",
       "       0, 0, 0, 0, 0, 0, 0, 0, 1, 1, 0, 0, 0, 0, 0, 0, 1, 0, 0, 0, 0, 0,\n",
       "       0, 1, 0, 0, 1, 1, 0, 0, 0, 1, 1, 0, 1, 0, 0, 1, 1, 0, 1, 0, 1, 1,\n",
       "       0, 0, 0, 1, 0, 0, 1, 0, 0, 0, 1, 0, 0, 1, 0, 0, 0, 0, 0, 0, 0, 0,\n",
       "       0, 0, 0, 1, 0, 0, 0, 0, 0, 1, 0, 1, 0, 1, 0, 0, 0, 1, 0, 1, 0, 0,\n",
       "       0, 0, 0, 1, 0, 0, 0, 1, 0, 0, 0, 0, 0, 0, 0, 1, 0, 1, 0, 0, 1, 1,\n",
       "       1, 0, 0, 1, 0, 0, 0, 0, 0, 0, 0, 0, 0, 0, 0, 0, 0, 1])"
      ]
     },
     "execution_count": 25,
     "metadata": {},
     "output_type": "execute_result"
    }
   ],
   "source": [
    "rounded_mypredictions = vectorized_discriminant(predictions)\n",
    "rounded_mypredictions"
   ]
  },
  {
   "cell_type": "code",
   "execution_count": 26,
   "id": "39ad53ab",
   "metadata": {},
   "outputs": [
    {
     "name": "stdout",
     "output_type": "stream",
     "text": [
      "              precision    recall  f1-score   support\n",
      "\n",
      "     class 0       0.79      0.89      0.84        99\n",
      "     class 1       0.72      0.55      0.62        51\n",
      "\n",
      "    accuracy                           0.77       150\n",
      "   macro avg       0.76      0.72      0.73       150\n",
      "weighted avg       0.77      0.77      0.76       150\n",
      "\n"
     ]
    }
   ],
   "source": [
    "print(classification_report(y_test, rounded_mypredictions, target_names=[\"class 0\",\"class 1\"]))"
   ]
  },
  {
   "cell_type": "code",
   "execution_count": null,
   "id": "447cda28",
   "metadata": {},
   "outputs": [],
   "source": []
  }
 ],
 "metadata": {
  "kernelspec": {
   "display_name": "Python 3 (ipykernel)",
   "language": "python",
   "name": "python3"
  },
  "language_info": {
   "codemirror_mode": {
    "name": "ipython",
    "version": 3
   },
   "file_extension": ".py",
   "mimetype": "text/x-python",
   "name": "python",
   "nbconvert_exporter": "python",
   "pygments_lexer": "ipython3",
   "version": "3.10.9"
  }
 },
 "nbformat": 4,
 "nbformat_minor": 5
}
